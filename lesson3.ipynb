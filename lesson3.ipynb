{
  "nbformat": 4,
  "nbformat_minor": 0,
  "metadata": {
    "colab": {
      "name": "lesson3.ipynb",
      "provenance": [],
      "authorship_tag": "ABX9TyPnN3NBeCz+h4MFIWW9cxlO",
      "include_colab_link": true
    },
    "kernelspec": {
      "name": "python3",
      "display_name": "Python 3"
    },
    "accelerator": "GPU"
  },
  "cells": [
    {
      "cell_type": "markdown",
      "metadata": {
        "id": "view-in-github",
        "colab_type": "text"
      },
      "source": [
        "<a href=\"https://colab.research.google.com/github/Sunil1821/FastAIPractise/blob/master/lesson3.ipynb\" target=\"_parent\"><img src=\"https://colab.research.google.com/assets/colab-badge.svg\" alt=\"Open In Colab\"/></a>"
      ]
    },
    {
      "cell_type": "code",
      "metadata": {
        "id": "rAJ4uf95bUFR"
      },
      "source": [
        "!pip3 install fastcore==1.0.9\n",
        "!pip3 install fastai==1.0.42\n",
        "!pip3 install -Uqq fastbook\n",
        "\n",
        "import fastbook\n",
        "fastbook.setup_book()\n",
        "\n",
        "#hide\n",
        "from fastbook import *\n",
        "from fastai.vision.all import *"
      ],
      "execution_count": 1,
      "outputs": []
    },
    {
      "cell_type": "code",
      "metadata": {
        "id": "aRe7q-Fg1dv9",
        "outputId": "5021c4bf-43d7-4137-880c-ea682d1d2d64",
        "colab": {
          "base_uri": "https://localhost:8080/",
          "height": 17
        }
      },
      "source": [
        "path = untar_data(URLs.MNIST_SAMPLE)"
      ],
      "execution_count": 2,
      "outputs": [
        {
          "output_type": "display_data",
          "data": {
            "text/html": [
              ""
            ],
            "text/plain": [
              "<IPython.core.display.HTML object>"
            ]
          },
          "metadata": {
            "tags": []
          }
        }
      ]
    },
    {
      "cell_type": "code",
      "metadata": {
        "id": "1UgzFYJF2AZ4"
      },
      "source": [
        "Path.BASE_PATH = path"
      ],
      "execution_count": 3,
      "outputs": []
    },
    {
      "cell_type": "code",
      "metadata": {
        "id": "H6RrGPKx2Fbb",
        "outputId": "559e94ad-afcd-47b5-8a17-c95b8bdf37be",
        "colab": {
          "base_uri": "https://localhost:8080/",
          "height": 54
        }
      },
      "source": [
        "(path/\"valid\"/\"3\").ls()"
      ],
      "execution_count": 7,
      "outputs": [
        {
          "output_type": "execute_result",
          "data": {
            "text/plain": [
              "(#1010) [Path('valid/3/7771.png'),Path('valid/3/1797.png'),Path('valid/3/3363.png'),Path('valid/3/5214.png'),Path('valid/3/5687.png'),Path('valid/3/6704.png'),Path('valid/3/9604.png'),Path('valid/3/9342.png'),Path('valid/3/2575.png'),Path('valid/3/8785.png')...]"
            ]
          },
          "metadata": {
            "tags": []
          },
          "execution_count": 7
        }
      ]
    },
    {
      "cell_type": "code",
      "metadata": {
        "id": "3j5KGcnz2GlK"
      },
      "source": [
        "valid_3_tens = [tensor(Image.open(o)) for o in (path/\"valid\"/\"3\").ls()]\n",
        "valid_7_tens = [tensor(Image.open(o)) for o in (path/\"valid\"/\"3\").ls()]"
      ],
      "execution_count": 9,
      "outputs": []
    },
    {
      "cell_type": "code",
      "metadata": {
        "id": "BjFxa_zs2ZSy"
      },
      "source": [
        ""
      ],
      "execution_count": null,
      "outputs": []
    }
  ]
}